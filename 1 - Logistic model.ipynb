{
 "cells": [
  {
   "cell_type": "markdown",
   "id": "7e14afa1",
   "metadata": {},
   "source": [
    "## Logistic model\n",
    "\n",
    "Population growth model:\n",
    "\n",
    "$$x_{n+1} = rx_n(1-x_n)$$"
   ]
  },
  {
   "cell_type": "code",
   "execution_count": null,
   "id": "c1843190",
   "metadata": {},
   "outputs": [],
   "source": [
    "%matplotlib inline\n",
    "from matplotlib import pylab\n",
    "import numpy\n",
    "\n",
    "def f(x, r):\n",
    "    \"\"\"Discrete logistic equation with parameter r\"\"\"\n",
    "    return r*x*(1-x)"
   ]
  },
  {
   "cell_type": "code",
   "execution_count": null,
   "id": "e81fb0cc",
   "metadata": {},
   "outputs": [],
   "source": [
    "# Input parameter r <1,4>\n",
    "# \"Interesting values\": 0-1, 1-2, 2-3, 3, 3.5 ...\n",
    "r = float(input())\n",
    "x = 0.1\n",
    "    \n",
    "xs = []\n",
    "for i in numpy.arange(0,100,0.1):\n",
    "    x = f(x,r)\n",
    "    xs.append(x)\n",
    "    \n",
    "pylab.plot(numpy.arange(0,100,0.1), xs, 'k.', ms=1.0)\n",
    "pylab.ylim(0,1)\n",
    "pylab.show()"
   ]
  },
  {
   "cell_type": "code",
   "execution_count": null,
   "id": "8e39cf3a",
   "metadata": {},
   "outputs": [],
   "source": [
    "# Bifurcation plot for logistic equation\n",
    "\n",
    "rs = numpy.linspace(1, 4, 400)\n",
    "x0=0.1\n",
    "for r in rs:\n",
    "    x = x0\n",
    "    ys = []\n",
    "    for i in range(500):\n",
    "        x = f(x, r)\n",
    "    for i in range(50):\n",
    "        x = f(x, r)\n",
    "        ys.append(x)\n",
    "\n",
    "    pylab.plot([r for y in ys], ys, 'k.', ms=1.0)\n",
    "    \n",
    "pylab.show()"
   ]
  }
 ],
 "metadata": {
  "kernelspec": {
   "display_name": "Python 3",
   "language": "python",
   "name": "python3"
  },
  "language_info": {
   "codemirror_mode": {
    "name": "ipython",
    "version": 3
   },
   "file_extension": ".py",
   "mimetype": "text/x-python",
   "name": "python",
   "nbconvert_exporter": "python",
   "pygments_lexer": "ipython3",
   "version": "3.8.5"
  }
 },
 "nbformat": 4,
 "nbformat_minor": 5
}
