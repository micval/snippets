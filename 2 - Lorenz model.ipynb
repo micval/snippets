{
 "cells": [
  {
   "cell_type": "markdown",
   "id": "26340f46",
   "metadata": {},
   "source": [
    "## Lorenz model\n",
    "\n",
    "Lorenz system of differential equations (Edward Lorenz, 1963) is a simple convection model.\n",
    "\n",
    "$$ \\frac{dx}{dt} = \\sigma(y-x) $$\n",
    "$$ \\frac{dy}{dt} = x(\\rho-z)-y $$\n",
    "$$ \\frac{dz}{dt} = xy-\\beta z $$\n",
    "\n",
    "Depending on values of $\\sigma, \\rho$ and $\\beta$ chaos ensues."
   ]
  },
  {
   "cell_type": "code",
   "execution_count": null,
   "id": "fe5ff2e2",
   "metadata": {},
   "outputs": [],
   "source": [
    "%matplotlib inline"
   ]
  },
  {
   "cell_type": "code",
   "execution_count": null,
   "id": "e8946fc7",
   "metadata": {},
   "outputs": [],
   "source": [
    "# Try different rho values...\n",
    "\n",
    "import numpy as np\n",
    "import matplotlib.pyplot as plt\n",
    "from scipy.integrate import odeint\n",
    "from mpl_toolkits.mplot3d import Axes3D\n",
    "\n",
    "rho = 28\n",
    "sigma = 10.0\n",
    "beta = 8.0 / 3.0\n",
    "\n",
    "def f(state, t):\n",
    "    x, y, z = state  # unpack the state vector\n",
    "    return sigma * (y - x), x * (rho - z) - y, x * y - beta * z  # derivatives\n",
    "\n",
    "state0 = [np.random.random(), np.random.random(), np.random.random()]\n",
    "t = np.arange(0.0, 50.0, 0.01)\n",
    "states = odeint(f, state0, t)\n",
    "\n",
    "state02 = [np.random.random(), np.random.random(), np.random.random()]\n",
    "states2 = odeint(f, state02, t)\n",
    "\n",
    "ax = plt.subplot(projection='3d')\n",
    "ax.plot(states[:,0], states[:,1], states[:,2], 'b')\n",
    "ax.plot(states2[:,0], states2[:,1], states2[:,2], 'g')\n",
    "ax.plot((state0[0],), (state0[1],), (state0[2],), 'bo', ms=4)\n",
    "ax.plot((state02[0],), (state02[1],), (state02[2],), 'go', ms=4)\n",
    "ax.plot([states[-1,0]], [states[-1,1]], [states[-1,2]], 'co', ms=5)\n",
    "ax.plot([states2[-1,0]], [states2[-1,1]], [states2[-1,2]], 'ro', ms=5)\n",
    "plt.show()"
   ]
  }
 ],
 "metadata": {
  "kernelspec": {
   "display_name": "Python 3",
   "language": "python",
   "name": "python3"
  },
  "language_info": {
   "codemirror_mode": {
    "name": "ipython",
    "version": 3
   },
   "file_extension": ".py",
   "mimetype": "text/x-python",
   "name": "python",
   "nbconvert_exporter": "python",
   "pygments_lexer": "ipython3",
   "version": "3.8.5"
  }
 },
 "nbformat": 4,
 "nbformat_minor": 5
}
